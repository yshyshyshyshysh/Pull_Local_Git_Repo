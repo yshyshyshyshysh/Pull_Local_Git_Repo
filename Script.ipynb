{
 "cells": [
  {
   "cell_type": "code",
   "execution_count": null,
   "metadata": {},
   "outputs": [],
   "source": [
    "# File Name: Sync_Local_Git_Repo 自動更新本地倉庫\n",
    "# Author: Yu-Shin, Hu\n",
    "# Date: February 5, 2024\n",
    "\n",
    "\n",
    "# !pip install GitPython\n",
    "import os\n",
    "from git import Repo\n",
    "import requests\n",
    "\n",
    "\n",
    "# Set the path to the local repositories\n",
    "local_repo_path = r'C:\\Users\\Username\\all_repo_files'\n",
    "\n",
    "# Set up a GitHub username and personal access token\n",
    "github_username = 'YourGitHubUsername'\n",
    "github_token = 'YourPersonalAccessToken'\n",
    "\n",
    "# Get the local and GitHub repository names (include public and private) with the same name\n",
    "local_repos = [repo for repo in os.listdir(local_repo_path) if os.path.isdir(os.path.join(local_repo_path, repo))]\n",
    "github_repos_url = f'https://api.github.com/user/repos'\n",
    "response = requests.get(github_repos_url, auth=(github_username, github_token))\n",
    "github_repos = [repo['name'] for repo in response.json()]\n",
    "common_repos = set(local_repos) & set(github_repos)\n",
    "\n",
    "# Update local repository (all branches)\n",
    "for repo_name in common_repos:\n",
    "    repo_path = os.path.join(local_repo_path, repo_name)\n",
    "    repo = Repo(repo_path)\n",
    "    \n",
    "    for remote in repo.remotes:\n",
    "        remote.fetch()\n",
    "        for branch in repo.branches:\n",
    "            branch.checkout()\n",
    "            repo.git.pull(remote.name, branch.name)\n",
    "\n",
    "print(f\"========== Update {len(common_repos)} repositories ==========\")\n",
    "for repo in common_repos:\n",
    "    print(repo)"
   ]
  }
 ],
 "metadata": {
  "kernelspec": {
   "display_name": "Python 3",
   "language": "python",
   "name": "python3"
  },
  "language_info": {
   "name": "python",
   "version": "3.11.7"
  }
 },
 "nbformat": 4,
 "nbformat_minor": 2
}
